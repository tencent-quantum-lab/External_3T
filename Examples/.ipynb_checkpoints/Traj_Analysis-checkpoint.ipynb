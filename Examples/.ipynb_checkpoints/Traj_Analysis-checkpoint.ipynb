{
 "cells": [
  {
   "cell_type": "code",
   "execution_count": null,
   "id": "712b3654-9efb-473a-a103-a602e1e78170",
   "metadata": {},
   "outputs": [],
   "source": [
    "import os, sys\n",
    "sys.path.append(r\"../..\")\n",
    "from External_3T.traj_analysis.rxn_collector import RXNCollector_Factory"
   ]
  },
  {
   "cell_type": "code",
   "execution_count": null,
   "id": "b4ed3a18-4c0d-4cf2-b0c1-b650ebc8e10a",
   "metadata": {},
   "outputs": [],
   "source": [
    "root_path = 'test/'\n",
    "rxn_factory = RXNCollector_Factory(root_path)\n",
    "rxn_factory.process(n_jobs=10)"
   ]
  },
  {
   "cell_type": "code",
   "execution_count": null,
   "id": "3c74eecc-c837-4009-8f51-5370ec4275d8",
   "metadata": {},
   "outputs": [],
   "source": [
    "start_time = time.time()\n",
    "rxn_factory.process(n_jobs=10, frame_idxs=':',\n",
    "                    save_rxn_result_fn='full_rxn_and_nx_graph_data.json',\n",
    "                    save_rxn_statistics_fn='full_rxn_statistics_all.csv')\n",
    "tmp_time = time.time()\n",
    "print('Cost: %4fs'%(tmp_time-start_time))"
   ]
  },
  {
   "cell_type": "code",
   "execution_count": null,
   "id": "4b8c14c0-0244-47c8-9bd3-f36faa9c20a5",
   "metadata": {},
   "outputs": [],
   "source": [
    "rxn_factory3.df"
   ]
  },
  {
   "cell_type": "code",
   "execution_count": null,
   "id": "0959cd2b-ce09-423e-80c5-02b52f992aac",
   "metadata": {},
   "outputs": [],
   "source": []
  },
  {
   "cell_type": "code",
   "execution_count": null,
   "id": "b3287cef-4df2-4ef5-bbf5-5fa32bfe9c6b",
   "metadata": {},
   "outputs": [],
   "source": [
    "from External_3T.traj_analysis.utils import get_charge_dict\n",
    "from External_3T.traj_analysis.visualization import plot_rxn_changed_mols\n",
    "\n",
    "df = rxn_factory.df.copy()\n",
    "df = df[df.idx==-1]\n",
    "rxn_coll = next(iter(rxn_factory.RXN_Collectors.values()))\n",
    "charge_dict = get_charge_dict(rxn_coll)\n",
    "plot_rxn_changed_mols(df, charge_dict, reverse=True)"
   ]
  },
  {
   "cell_type": "code",
   "execution_count": null,
   "id": "82d9b966-b931-470c-b221-68fc6f1397fc",
   "metadata": {},
   "outputs": [],
   "source": [
    "from External_3T.traj_analysis.utils import combine_rxn_diff_df, get_charge_dict\n",
    "from External_3T.traj_analysis.visualization import plot_rxn_cleaned_timestep_hist\n",
    "from External_3T.traj_analysis.visualization import plot_rxn_cleaned_timestep_hist_by_mols\n",
    "\n",
    "df = rxn_factory.df.copy()\n",
    "df_new = combine_rxn_diff_df(df)\n",
    "df_new.to_csv(rxn_factory.dst_dir+'/full_rxn_statistics_all_63_new.csv')\n",
    "plot_rxn_cleaned_timestep_hist(df_new, show_fake_rxn=True)\n",
    "plot_rxn_cleaned_timestep_hist(df_new, show_fake_rxn=False)\n",
    "\n",
    "rxn_coll = next(iter(rxn_factory.RXN_Collectors.values()))\n",
    "charge_dict = get_charge_dict(rxn_coll)\n",
    "df_new_2 = plot_rxn_cleaned_timestep_hist_by_mols(df_new, show_fake_rxn=True, charge_dict=charge_dict)\n",
    "df_new_2.to_csv(rxn_factory.dst_dir+'/full_rxn_statistics_all_63_new2.csv')\n"
   ]
  }
 ],
 "metadata": {
  "kernelspec": {
   "display_name": "Python 3 (ipykernel)",
   "language": "python",
   "name": "python3"
  },
  "language_info": {
   "codemirror_mode": {
    "name": "ipython",
    "version": 3
   },
   "file_extension": ".py",
   "mimetype": "text/x-python",
   "name": "python",
   "nbconvert_exporter": "python",
   "pygments_lexer": "ipython3",
   "version": "3.9.13"
  }
 },
 "nbformat": 4,
 "nbformat_minor": 5
}
